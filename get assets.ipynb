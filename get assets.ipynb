{
 "cells": [
  {
   "cell_type": "code",
   "execution_count": 4,
   "metadata": {},
   "outputs": [],
   "source": [
    "import os\n",
    "\n",
    "# Define the root assets folder\n",
    "ASSETS_DIR = \"assets/Final Reports\"\n",
    "\n",
    "# Output file for pubspec.yaml\n",
    "OUTPUT_FILE = \"flutter_assets.yaml\"\n",
    "\n",
    "# Allowed image extensions\n",
    "IMAGE_EXTENSIONS = {\".png\", \".jpg\", \".jpeg\"}\n",
    "\n",
    "\n",
    "def get_asset_paths():\n",
    "    \"\"\"Recursively find all image assets and return formatted YAML entries, ignoring folders with 'old' in their name.\"\"\"\n",
    "    asset_entries = []\n",
    "\n",
    "    for root, dirs, files in os.walk(ASSETS_DIR):\n",
    "        # Ignore directories with 'old' in their name\n",
    "        dirs[:] = [d for d in dirs if 'old' not in d.lower()]\n",
    "        \n",
    "        for file in files:\n",
    "            if any(file.endswith(ext) for ext in IMAGE_EXTENSIONS):\n",
    "                # Get the relative path (for Flutter's pubspec.yaml)\n",
    "                asset_path = os.path.join(root, file).replace(\"\\\\\", \"/\")\n",
    "                asset_entries.append(f\"    - {asset_path}\")\n",
    "\n",
    "    return asset_entries\n",
    "\n",
    "\n",
    "def generate_pubspec_yaml():\n",
    "    \"\"\"Generate YAML formatted assets list for Flutter.\"\"\"\n",
    "    assets_list = get_asset_paths()\n",
    "\n",
    "    if not assets_list:\n",
    "        print(\"No assets found!\")\n",
    "        return\n",
    "    \n",
    "    yaml_content = \"flutter:\\n  assets:\\n\" + \"\\n\" .join(assets_list)\n",
    "\n",
    "    # Save to file\n",
    "    with open(OUTPUT_FILE, \"w\") as f:\n",
    "        f.write(yaml_content)\n",
    "\n",
    "    print(f\"✅ Asset list saved to {OUTPUT_FILE}. Copy it into pubspec.yaml.\")\n",
    "\n"
   ]
  },
  {
   "cell_type": "code",
   "execution_count": 5,
   "metadata": {},
   "outputs": [
    {
     "name": "stdout",
     "output_type": "stream",
     "text": [
      "✅ Asset list saved to flutter_assets.yaml. Copy it into pubspec.yaml.\n"
     ]
    }
   ],
   "source": [
    "\n",
    "# Run script\n",
    "if __name__ == \"__main__\":\n",
    "    generate_pubspec_yaml()"
   ]
  },
  {
   "cell_type": "code",
   "execution_count": 7,
   "metadata": {},
   "outputs": [
    {
     "name": "stdout",
     "output_type": "stream",
     "text": [
      "✅ Image data saved to flutter_image_data.json. Load this JSON in Flutter.\n"
     ]
    }
   ],
   "source": [
    "import os\n",
    "import json\n",
    "\n",
    "# Define the root assets folder\n",
    "ASSETS_DIR = \"assets/Final Reports\"\n",
    "OUTPUT_FILE = \"flutter_image_data.json\"\n",
    "\n",
    "# Allowed image extensions\n",
    "IMAGE_EXTENSIONS = {\".png\", \".jpg\", \".jpeg\"}\n",
    "\n",
    "\n",
    "def get_image_data():\n",
    "    \"\"\"Recursively find all image assets and return structured JSON data.\"\"\"\n",
    "    image_data = {}\n",
    "\n",
    "    for study_id in os.listdir(ASSETS_DIR):\n",
    "        if 'old' in study_id.lower():\n",
    "            continue  # Ignore folders with 'old' in their name\n",
    "\n",
    "        study_path = os.path.join(ASSETS_DIR, study_id)\n",
    "        if not os.path.isdir(study_path):\n",
    "            continue  # Skip files, only process folders\n",
    "\n",
    "        # Initialize dictionary for this study\n",
    "        image_data[study_id] = {\n",
    "            \"sagittal_t1\": [],\n",
    "            \"sagittal_t2\": [],\n",
    "            \"axial\": []\n",
    "        }\n",
    "\n",
    "        for series_folder in os.listdir(study_path):\n",
    "            if 'old' in series_folder.lower():\n",
    "                continue  # Ignore folders with 'old' in their name\n",
    "\n",
    "            series_path = os.path.join(study_path, series_folder)\n",
    "            if not os.path.isdir(series_path):\n",
    "                continue  # Skip files, only process folders\n",
    "\n",
    "            # Identify series type\n",
    "            lower_series_folder = series_folder.lower()\n",
    "            if \"sagittal\" in lower_series_folder and \"t1\" in lower_series_folder and \"t2\" not in lower_series_folder:\n",
    "                series_type = \"sagittal_t1\"\n",
    "            elif \"sagittal\" in lower_series_folder and \"t2\" in lower_series_folder:\n",
    "                series_type = \"sagittal_t2\"\n",
    "            elif \"axial\" in lower_series_folder:\n",
    "                series_type = \"axial\"\n",
    "            else:\n",
    "                continue  # Ignore unknown types\n",
    "\n",
    "            # Get images in the folder\n",
    "            for file in sorted(os.listdir(series_path)):\n",
    "                if any(file.endswith(ext) for ext in IMAGE_EXTENSIONS):\n",
    "                    relative_path = f\"{ASSETS_DIR}/{study_id}/{series_folder}/{file}\"\n",
    "                    image_data[study_id][series_type].append(\n",
    "                        relative_path.replace(\"\\\\\", \"/\"))\n",
    "\n",
    "    return image_data\n",
    "\n",
    "\n",
    "def save_image_data():\n",
    "    \"\"\"Generate JSON formatted image data for Flutter.\"\"\"\n",
    "    data = get_image_data()\n",
    "    with open(OUTPUT_FILE, \"w\") as f:\n",
    "        json.dump(data, f, indent=4)\n",
    "\n",
    "    print(f\"✅ Image data saved to {OUTPUT_FILE}. Load this JSON in Flutter.\")\n",
    "\n",
    "\n",
    "# Run script\n",
    "if __name__ == \"__main__\":\n",
    "    save_image_data()"
   ]
  }
 ],
 "metadata": {
  "kernelspec": {
   "display_name": "default",
   "language": "python",
   "name": "python3"
  },
  "language_info": {
   "codemirror_mode": {
    "name": "ipython",
    "version": 3
   },
   "file_extension": ".py",
   "mimetype": "text/x-python",
   "name": "python",
   "nbconvert_exporter": "python",
   "pygments_lexer": "ipython3",
   "version": "3.11.11"
  }
 },
 "nbformat": 4,
 "nbformat_minor": 2
}
